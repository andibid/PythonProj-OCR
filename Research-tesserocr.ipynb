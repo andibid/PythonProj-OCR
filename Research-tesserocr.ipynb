{
 "cells": [
  {
   "cell_type": "code",
   "execution_count": 100,
   "id": "8fc6c3e2",
   "metadata": {},
   "outputs": [
    {
     "name": "stdout",
     "output_type": "stream",
     "text": [
      "Processing c:\\users\\owner\\documents\\jupyter\\code\\research\\tesserocr-2.7.0-cp39-cp39-win_amd64.whl\n",
      "Installing collected packages: tesserocr\n",
      "  Attempting uninstall: tesserocr\n",
      "    Found existing installation: tesserocr 2.7.0\n",
      "    Uninstalling tesserocr-2.7.0:\n",
      "      Successfully uninstalled tesserocr-2.7.0\n",
      "Successfully installed tesserocr-2.7.0\n"
     ]
    }
   ],
   "source": [
    "!pip install tesserocr-2.7.0-cp39-cp39-win_amd64.whl"
   ]
  },
  {
   "cell_type": "code",
   "execution_count": 708,
   "id": "8327399d",
   "metadata": {},
   "outputs": [],
   "source": [
    "import matplotlib.pyplot as plt \n",
    "import cv2\n",
    "import numpy as np\n",
    "import re\n",
    "import math\n",
    "import tesserocr\n",
    "\n",
    "from tesserocr import PyTessBaseAPI, RIL, iterate_level\n",
    "from PIL import Image, ImageDraw, ImageFont"
   ]
  },
  {
   "cell_type": "code",
   "execution_count": 709,
   "id": "57562b4e",
   "metadata": {},
   "outputs": [
    {
     "data": {
      "text/plain": [
       "'TH15 guy 15 @n 1d10t m@n'"
      ]
     },
     "execution_count": 709,
     "metadata": {},
     "output_type": "execute_result"
    }
   ],
   "source": [
    "#sample text\n",
    "text =\"TH15 guy 15 @n 1d10t m@n\"\n",
    "text"
   ]
  },
  {
   "cell_type": "code",
   "execution_count": 710,
   "id": "292a6a2d",
   "metadata": {
    "scrolled": true
   },
   "outputs": [
    {
     "data": {
      "text/plain": [
       "['TH15', 'guy', '15', '@n', '1d10t', 'm@n']"
      ]
     },
     "execution_count": 710,
     "metadata": {},
     "output_type": "execute_result"
    }
   ],
   "source": [
    "word_tokens = text.split()\n",
    "word_tokens"
   ]
  },
  {
   "cell_type": "code",
   "execution_count": 711,
   "id": "edac6079",
   "metadata": {},
   "outputs": [
    {
     "name": "stdout",
     "output_type": "stream",
     "text": [
      "Modified list: ['TH**', 'guy', '**', '*n', '*d**t', 'm*n']\n",
      "Non-alphabet characters: ['1', '5', '1', '5', '@', '1', '1', '0', '@']\n"
     ]
    }
   ],
   "source": [
    "def is_alphabet(char):\n",
    "    pattern = r'^[A-Za-z]$'     #check if char is English Alphabet\n",
    "    return bool(re.fullmatch(pattern, char))\n",
    "\n",
    "non_alphabet = []\n",
    "\n",
    "for i in range(len(word_tokens)):\n",
    "    word = list(word_tokens[i])\n",
    "    \n",
    "    for j in range(len(word)):\n",
    "        if not is_alphabet(word[j]):\n",
    "            non_alphabet.append(word[j])\n",
    "            word[j] = '*'\n",
    "    \n",
    "    word_tokens[i] = ''.join(word)\n",
    "\n",
    "print(\"Modified list:\", word_tokens)\n",
    "print(\"Non-alphabet characters:\", non_alphabet)"
   ]
  },
  {
   "cell_type": "code",
   "execution_count": 712,
   "id": "c20b56fc",
   "metadata": {},
   "outputs": [],
   "source": [
    "def img_filter(img):\n",
    "    img = np.array(img)\n",
    "    kernel = np.ones((5, 5), np.uint8) \n",
    "\n",
    "    img = cv2.GaussianBlur(img,(5,5),0)\n",
    "    ret, img = cv2.threshold(img, 130, 255, cv2.THRESH_BINARY) \n",
    "    \n",
    "    \n",
    "    img=Image.fromarray(img)\n",
    "    \n",
    "    return img"
   ]
  },
  {
   "cell_type": "code",
   "execution_count": 713,
   "id": "173b0053",
   "metadata": {},
   "outputs": [],
   "source": [
    "def char_to_image(character):\n",
    "    img_size=(30,30)\n",
    "    font_size=30\n",
    "    img = Image.new('RGB', img_size,color='white')\n",
    "    \n",
    "    draw = ImageDraw.Draw(img)\n",
    "    \n",
    "    font=ImageFont.truetype(\"tahoma\", font_size)\n",
    "    \n",
    "    (left, top, right, bottom) = font.getbbox(character)\n",
    "    \n",
    "    char_w = right - left\n",
    "    char_h = bottom - top\n",
    "    \n",
    "    position = ((img_size[0] - char_w) // 2, ((img_size[1] - char_h) // 2)-top)\n",
    "    draw.text(position, character,fill='black',font=font)\n",
    "        \n",
    "    img=img_filter(img)\n",
    "    \n",
    "    return img"
   ]
  },
  {
   "cell_type": "code",
   "execution_count": 714,
   "id": "b2801299",
   "metadata": {},
   "outputs": [],
   "source": [
    "img_list=[]\n",
    "\n",
    "for i in range(len(non_alphabet)):\n",
    "    img = char_to_image(non_alphabet[i])\n",
    "    img_list.append(img)"
   ]
  },
  {
   "cell_type": "code",
   "execution_count": 715,
   "id": "c6b18fc9",
   "metadata": {},
   "outputs": [],
   "source": [
    "def display_images(images):\n",
    "    rows = math.ceil(len(images) / 5)\n",
    "    fig = plt.figure(figsize=(12, 10))\n",
    "\n",
    "    for i in range (len(images)):\n",
    "        fig.add_subplot(rows,5,i+1)\n",
    "        plt.imshow(images[i], cmap = 'gray')\n",
    "    \n",
    "    plt.subplots_adjust(wspace=0.3, hspace=-0.3)\n",
    "    plt.show()"
   ]
  },
  {
   "cell_type": "code",
   "execution_count": 716,
   "id": "88e4b7b1",
   "metadata": {},
   "outputs": [
    {
     "data": {
      "image/png": "[encoded data removed]",
      "text/plain": [
       "<Figure size 1200x1000 with 9 Axes>"
      ]
     },
     "metadata": {},
     "output_type": "display_data"
    }
   ],
   "source": [
    "display_images(img_list)"
   ]
  },
  {
   "cell_type": "code",
   "execution_count": 717,
   "id": "5a0802b3",
   "metadata": {},
   "outputs": [],
   "source": [
    "def get_choices(images):\n",
    "    try:\n",
    "        candidate = []\n",
    "        with PyTessBaseAPI(psm=tesserocr.PSM.SINGLE_CHAR) as api:\n",
    "            api.SetVariable(\"lstm_choice_mode\", \"2\")\n",
    "            api.SetVariable(\"tessedit_char_whitelist\", \"ABCDEFGHIJKLMNOPQRSTUVWXYZabcdefghijklmnopqrstuvwxyz\")\n",
    "            api.SetVariable(\"lstm_choice_iterations\", \"5\")\n",
    "            api.SetImage(img)\n",
    "            api.Recognize()\n",
    "\n",
    "            ri = api.GetIterator()\n",
    "            level = RIL.SYMBOL\n",
    "\n",
    "            for r in iterate_level(ri, level):\n",
    "                symbol = r.GetUTF8Text(level)  # r == ri\n",
    "                char_pred=symbol\n",
    "\n",
    "                ci = r.GetChoiceIterator()\n",
    "                for c in ci:\n",
    "                    choice = c.GetUTF8Text()  # c == ci\n",
    "                    conf= c.Confidence()\n",
    "                    candidate.append((choice,conf))\n",
    "\n",
    "\n",
    "        return char_pred, candidate\n",
    "    except Exception as e:\n",
    "        return \"\", []"
   ]
  },
  {
   "cell_type": "code",
   "execution_count": 718,
   "id": "3b113f59",
   "metadata": {},
   "outputs": [],
   "source": [
    "predictions = []\n",
    "char_candidates = []\n",
    "\n",
    "for img in img_list:\n",
    "    char_pred, candidate = get_choices(img)\n",
    "    predictions.append(char_pred)\n",
    "    char_candidates.append(candidate)\n"
   ]
  },
  {
   "cell_type": "code",
   "execution_count": 719,
   "id": "a167807a",
   "metadata": {},
   "outputs": [
    {
     "name": "stdout",
     "output_type": "stream",
     "text": [
      "Before prediction:  ['1', '5', '1', '5', '@', '1', '1', '0', '@']\n",
      "After prediction:  ['l', 'S', 'l', 'S', 'a', 'l', 'l', 'O', 'a'] \n",
      "\n",
      "Predicted characters for: ' 1 '\n",
      "\t [('l', 22.42507553100586), ('I', 4.816093444824219), ('g', 0.0), ('a', 0.0), ('s', 0.0), ('e', 0.0)]\n",
      "\n",
      "\n",
      "Predicted characters for: ' 5 '\n",
      "\t [('S', 10.30888557434082), ('I', 0.0)]\n",
      "\n",
      "\n",
      "Predicted characters for: ' 1 '\n",
      "\t [('l', 22.42507553100586), ('I', 4.816093444824219), ('g', 0.0), ('a', 0.0), ('s', 0.0), ('e', 0.0)]\n",
      "\n",
      "\n",
      "Predicted characters for: ' 5 '\n",
      "\t [('S', 10.30888557434082), ('I', 0.0)]\n",
      "\n",
      "\n",
      "Predicted characters for: ' @ '\n",
      "\t [('Q', 90.8500747680664), ('a', 79.69709777832031), ('q', 53.899200439453125), ('d', 45.12533187866211), ('g', 44.76344299316406), ('A', 33.02405548095703), ('Q', 92.4271011352539), ('a', 76.3775634765625), ('q', 46.614707946777344), ('d', 45.39847946166992), ('g', 44.568023681640625), ('A', 33.780521392822266)]\n",
      "\n",
      "\n",
      "Predicted characters for: ' 1 '\n",
      "\t [('l', 22.42507553100586), ('I', 4.816093444824219), ('g', 0.0), ('a', 0.0), ('s', 0.0), ('e', 0.0)]\n",
      "\n",
      "\n",
      "Predicted characters for: ' 1 '\n",
      "\t [('l', 22.42507553100586), ('I', 4.816093444824219), ('g', 0.0), ('a', 0.0), ('s', 0.0), ('e', 0.0)]\n",
      "\n",
      "\n",
      "Predicted characters for: ' 0 '\n",
      "\t [('O', 64.8270492553711), ('o', 32.2900390625), ('d', 29.433717727661133), ('D', 29.208202362060547), ('N', 20.316028594970703), ('Q', 16.60079002380371)]\n",
      "\n",
      "\n",
      "Predicted characters for: ' @ '\n",
      "\t [('Q', 90.8500747680664), ('a', 79.69709777832031), ('q', 53.899200439453125), ('d', 45.12533187866211), ('g', 44.76344299316406), ('A', 33.02405548095703), ('Q', 92.4271011352539), ('a', 76.3775634765625), ('q', 46.614707946777344), ('d', 45.39847946166992), ('g', 44.568023681640625), ('A', 33.780521392822266)]\n",
      "\n",
      "\n"
     ]
    }
   ],
   "source": [
    "print(\"Before prediction: \", non_alphabet)\n",
    "print(\"After prediction: \", predictions,\"\\n\")\n",
    "\n",
    "for i in range(len(non_alphabet)):\n",
    "    print(\"Predicted characters for: '\",non_alphabet[i],\"'\")\n",
    "    print(\"\\t\",char_candidates[i])\n",
    "    print(\"\\n\")"
   ]
  },
  {
   "cell_type": "code",
   "execution_count": 720,
   "id": "0abf0729",
   "metadata": {},
   "outputs": [],
   "source": [
    "def replace_char(word_tokens, predictions,non_alphabet):\n",
    "    k=0\n",
    "    \n",
    "    for i in range(len(word_tokens)):\n",
    "        word = list(word_tokens[i])\n",
    "    \n",
    "        for j in range(len(word)):\n",
    "            if word[j]=='*':\n",
    "                if k<(len(predictions)):\n",
    "                    if predictions[k] != \"\":\n",
    "                        word[j] = predictions[k]\n",
    "                        k+=1\n",
    "                    else:\n",
    "                        word[j] = non_alphabet[k]\n",
    "                        k+=1\n",
    "                else:\n",
    "                    break\n",
    "    \n",
    "        word_tokens[i] = ''.join(word)\n",
    "        \n",
    "    return word_tokens"
   ]
  },
  {
   "cell_type": "code",
   "execution_count": 721,
   "id": "5890677a",
   "metadata": {},
   "outputs": [
    {
     "data": {
      "text/plain": [
       "['THlS', 'guy', 'lS', 'an', 'ldlOt', 'man']"
      ]
     },
     "execution_count": 721,
     "metadata": {},
     "output_type": "execute_result"
    }
   ],
   "source": [
    "replace_char(word_tokens, predictions,non_alphabet)"
   ]
  },
  {
   "cell_type": "code",
   "execution_count": null,
   "id": "684893c7",
   "metadata": {},
   "outputs": [],
   "source": []
  }
 ],
 "metadata": {
  "kernelspec": {
   "display_name": "Python 3 (ipykernel)",
   "language": "python",
   "name": "python3"
  },
  "language_info": {
   "codemirror_mode": {
    "name": "ipython",
    "version": 3
   },
   "file_extension": ".py",
   "mimetype": "text/x-python",
   "name": "python",
   "nbconvert_exporter": "python",
   "pygments_lexer": "ipython3",
   "version": "3.9.12"
  }
 },
 "nbformat": 4,
 "nbformat_minor": 5
}
